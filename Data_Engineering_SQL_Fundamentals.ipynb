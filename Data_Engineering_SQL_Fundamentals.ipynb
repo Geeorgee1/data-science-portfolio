{
  "nbformat": 4,
  "nbformat_minor": 0,
  "metadata": {
    "colab": {
      "provenance": [],
      "authorship_tag": "ABX9TyNSyHN6jzMljEoJDueTrPpg"
    },
    "kernelspec": {
      "name": "python3",
      "display_name": "Python 3"
    },
    "language_info": {
      "name": "python"
    }
  },
  "cells": [
    {
      "cell_type": "code",
      "execution_count": 1,
      "metadata": {
        "colab": {
          "base_uri": "https://localhost:8080/"
        },
        "id": "aaEnvo8aCrSM",
        "outputId": "813e0532-919d-4c5f-f0dd-bb575931b3d2"
      },
      "outputs": [
        {
          "output_type": "stream",
          "name": "stdout",
          "text": [
            "Database and table created successfully!\n"
          ]
        }
      ],
      "source": [
        "#!!!!WARNING!!! if you are using google colab, do not run couple code blocks together to prevent corrupting and related errors.\n",
        "\n",
        "# Import the library\n",
        "import sqlite3\n",
        "\n",
        "# Connect to a database (or create it if it doesn't exist)\n",
        "# This creates a file called 'crypto_portfolio.db' in your Colab environment\n",
        "conn = sqlite3.connect('crypto_portfolio.db')\n",
        "\n",
        "# Create a cursor object. This is how we execute SQL commands.\n",
        "cur = conn.cursor()\n",
        "\n",
        "# Define an SQL command as a Python string to create a table\n",
        "create_table_sql = \"\"\"\n",
        "CREATE TABLE IF NOT EXISTS crypto_prices (\n",
        "    id INTEGER PRIMARY KEY AUTOINCREMENT,  -- A unique ID for each row\n",
        "    cryptocurrency TEXT NOT NULL,          -- Name of the crypto, e.g., 'bitcoin'\n",
        "    price_usd REAL,                        -- The price, a real number (float)\n",
        "    timestamp TEXT                         -- When we recorded the price\n",
        ");\n",
        "\"\"\"\n",
        "\n",
        "# Execute the SQL command to create the table\n",
        "cur.execute(create_table_sql)\n",
        "\n",
        "# Commit the changes to save them to the database\n",
        "conn.commit()\n",
        "\n",
        "print(\"Database and table created successfully!\")"
      ]
    },
    {
      "cell_type": "code",
      "source": [
        "import requests\n",
        "import sqlite3\n",
        "from datetime import datetime\n",
        "\n",
        "# --- PART 1: EXTRACT DATA FROM API ---\n",
        "url = \"https://api.coingecko.com/api/v3/simple/price?ids=bitcoin&vs_currencies=usd\"\n",
        "response = requests.get(url)\n",
        "data = response.json()\n",
        "price = data['bitcoin']['usd']\n",
        "current_time = datetime.now().strftime(\"%Y-%m-%d %H:%M:%S\") # Formatted timestamp\n",
        "\n",
        "# --- PART 2: LOAD DATA INTO SQL DATABASE ---\n",
        "# Connect to the database we just created\n",
        "conn = sqlite3.connect('crypto_portfolio.db')\n",
        "cur = conn.cursor()\n",
        "\n",
        "# Define an SQL command to INSERT a new record\n",
        "# The (?) are placeholders for the values we will provide\n",
        "insert_sql = \"\"\"\n",
        "INSERT INTO crypto_prices (cryptocurrency, price_usd, timestamp)\n",
        "VALUES (?, ?, ?);\n",
        "\"\"\"\n",
        "\n",
        "# Execute the command, passing a tuple of values for the placeholders\n",
        "# The order must match the column order: (cryptocurrency, price_usd, timestamp)\n",
        "cur.execute(insert_sql, ('bitcoin', price, current_time))\n",
        "\n",
        "# Commit the changes to SAVE the transaction\n",
        "conn.commit()\n",
        "\n",
        "# Close the connection. Good practice to avoid locking the file.\n",
        "conn.close()\n",
        "\n",
        "print(\"Data successfully inserted into the database!\")"
      ],
      "metadata": {
        "colab": {
          "base_uri": "https://localhost:8080/"
        },
        "id": "pttnduijEcYb",
        "outputId": "889a75a8-f8fa-4014-b879-7d31b7ba4241"
      },
      "execution_count": 5,
      "outputs": [
        {
          "output_type": "stream",
          "name": "stdout",
          "text": [
            "Data successfully inserted into the database!\n"
          ]
        }
      ]
    },
    {
      "cell_type": "code",
      "source": [
        "# Reconnect to the database if your connection is closed\n",
        "conn = sqlite3.connect('crypto_portfolio.db')\n",
        "cur = conn.cursor()\n",
        "\n",
        "# Define a SELECT query to get all data from the crypto_prices table\n",
        "select_sql = \"SELECT cryptocurrency, price_usd FROM crypto_prices;\"\n",
        "\n",
        "# Execute the query\n",
        "cur.execute(select_sql)\n",
        "\n",
        "# Fetch all the results of the query\n",
        "results = cur.fetchall()\n",
        "\n",
        "# Print the results\n",
        "print(\"All records in the crypto_prices table:\")\n",
        "for row in results:\n",
        "    print(row)\n",
        "\n",
        "# Always close the connection when you're done\n",
        "conn.close()"
      ],
      "metadata": {
        "colab": {
          "base_uri": "https://localhost:8080/"
        },
        "id": "Nd13cbiBGE6Z",
        "outputId": "f8d1b047-2aed-463f-81aa-4c6e3d1da619"
      },
      "execution_count": 8,
      "outputs": [
        {
          "output_type": "stream",
          "name": "stdout",
          "text": [
            "All records in the crypto_prices table:\n",
            "('bitcoin', 110096.0)\n"
          ]
        }
      ]
    },
    {
      "cell_type": "code",
      "source": [
        "import sqlite3\n",
        "from datetime import datetime\n",
        "\n",
        "# Connect to the DB\n",
        "conn = sqlite3.connect('crypto_portfolio.db')\n",
        "cur = conn.cursor()\n",
        "\n",
        "# First, let's add another record for a different crypto to have more data\n",
        "insert_sql = \"INSERT INTO crypto_prices (cryptocurrency, price_usd, timestamp) VALUES (?, ?, ?);\"\n",
        "cur.execute(insert_sql, ('ethereum', 3000.0, datetime.now().strftime(\"%Y-%m-%d %H:%M:%S\")))\n",
        "conn.commit()\n",
        "print(\"Added an Ethereum record.\")\n",
        "\n",
        "# Now, let's say the price of Ethereum changed. We need to UPDATE it.\n",
        "update_sql = \"\"\"\n",
        "UPDATE crypto_prices\n",
        "SET price_usd = 3500.0  -- The new value for the column\n",
        "WHERE cryptocurrency = 'ethereum';  -- The condition: which row(s) to update\n",
        "\"\"\"\n",
        "\n",
        "cur.execute(update_sql)\n",
        "conn.commit() # Remember to commit!\n",
        "print(\"Updated Ethereum price.\")\n",
        "\n",
        "# Let's check our work by selecting all data\n",
        "cur.execute(\"SELECT * FROM crypto_prices;\")\n",
        "results = cur.fetchall()\n",
        "print(\"\\nAll records after update:\")\n",
        "for row in results:\n",
        "    print(row)\n",
        "\n",
        "conn.close()"
      ],
      "metadata": {
        "colab": {
          "base_uri": "https://localhost:8080/"
        },
        "id": "EalIFc1BHosK",
        "outputId": "286756d4-18bb-46c3-b6d5-f5a32385ed1a"
      },
      "execution_count": 9,
      "outputs": [
        {
          "output_type": "stream",
          "name": "stdout",
          "text": [
            "Added an Ethereum record.\n",
            "Updated Ethereum price.\n",
            "\n",
            "All records after update:\n",
            "(1, 'bitcoin', 110096.0, '2025-08-26 11:13:18')\n",
            "(2, 'ethereum', 3500.0, '2025-08-26 11:23:47')\n"
          ]
        }
      ]
    },
    {
      "cell_type": "code",
      "source": [
        "import sqlite3\n",
        "\n",
        "conn = sqlite3.connect('crypto_portfolio.db')\n",
        "cur = conn.cursor()\n",
        "\n",
        "# Let's say we want to delete all test records for 'ethereum'\n",
        "# First, let's see what we're about to delete (SAFETY FIRST)\n",
        "check_sql = \"SELECT * FROM crypto_prices WHERE cryptocurrency = 'ethereum';\"\n",
        "cur.execute(check_sql)\n",
        "to_delete = cur.fetchall()\n",
        "print(\"Records to be deleted:\")\n",
        "for row in to_delete:\n",
        "    print(row)\n",
        "\n",
        "# Now, if we're sure, we delete them.\n",
        "delete_sql = \"DELETE FROM crypto_prices WHERE cryptocurrency = 'ethereum';\"\n",
        "cur.execute(delete_sql)\n",
        "conn.commit() # Commit the deletion\n",
        "print(\"\\nEthereum records deleted.\")\n",
        "\n",
        "# Verify deletion\n",
        "cur.execute(\"SELECT * FROM crypto_prices;\")\n",
        "results = cur.fetchall()\n",
        "print(\"\\nAll records after deletion:\")\n",
        "for row in results:\n",
        "    print(row)\n",
        "\n",
        "conn.close()"
      ],
      "metadata": {
        "colab": {
          "base_uri": "https://localhost:8080/"
        },
        "id": "jQL_oscYIPbG",
        "outputId": "6df165fc-2e6f-4c8a-c170-27b2fe57dc83"
      },
      "execution_count": 10,
      "outputs": [
        {
          "output_type": "stream",
          "name": "stdout",
          "text": [
            "Records to be deleted:\n",
            "(2, 'ethereum', 3500.0, '2025-08-26 11:23:47')\n",
            "\n",
            "Ethereum records deleted.\n",
            "\n",
            "All records after deletion:\n",
            "(1, 'bitcoin', 110096.0, '2025-08-26 11:13:18')\n"
          ]
        }
      ]
    },
    {
      "cell_type": "code",
      "source": [
        "import sqlite3\n",
        "from datetime import datetime\n",
        "\n",
        "# Connect to the DB\n",
        "conn = sqlite3.connect('crypto_portfolio.db')\n",
        "cur = conn.cursor()\n",
        "\n",
        "# Now, let's say the price of bitcoin changed. We need to UPDATE it.\n",
        "update_sql = \"\"\"\n",
        "UPDATE crypto_prices\n",
        "SET price_usd = 1.0  -- The new value for the column\n",
        "WHERE cryptocurrency = 'bitcoin';  -- The condition: which row(s) to update\n",
        "\"\"\"\n",
        "\n",
        "cur.execute(update_sql)\n",
        "conn.commit() # Remember to commit!\n",
        "print(\"Updated bitcoin price.\")\n",
        "\n",
        "# Let's check our work by selecting all data\n",
        "cur.execute(\"SELECT * FROM crypto_prices;\")\n",
        "results = cur.fetchall()\n",
        "print(\"\\nAll records after update:\")\n",
        "for row in results:\n",
        "    print(row)\n",
        "\n",
        "conn.close()"
      ],
      "metadata": {
        "colab": {
          "base_uri": "https://localhost:8080/"
        },
        "id": "XDAMCTnmJNre",
        "outputId": "5f7030ce-0b12-4c13-9d39-8323d5e06a85"
      },
      "execution_count": 11,
      "outputs": [
        {
          "output_type": "stream",
          "name": "stdout",
          "text": [
            "Updated bitcoin price.\n",
            "\n",
            "All records after update:\n",
            "(1, 'bitcoin', 1.0, '2025-08-26 11:13:18')\n"
          ]
        }
      ]
    },
    {
      "cell_type": "code",
      "source": [
        "#Complete ETL pipeline (Export, Transform, Load).\n",
        "import sqlite3\n",
        "import requests\n",
        "from datetime import datetime\n",
        "\n",
        "def create_database_connection():\n",
        "    \"\"\"Creates a connection to the SQLite database.\"\"\"\n",
        "    conn = sqlite3.connect('crypto_portfolio.db')\n",
        "    return conn\n",
        "\n",
        "def create_table(conn):\n",
        "    \"\"\"Creates the crypto_prices table if it doesn't exist.\"\"\"\n",
        "    create_table_sql = \"\"\"\n",
        "    CREATE TABLE IF NOT EXISTS crypto_prices (\n",
        "        id INTEGER PRIMARY KEY AUTOINCREMENT,\n",
        "        cryptocurrency TEXT NOT NULL,\n",
        "        price_usd REAL,\n",
        "        timestamp TEXT\n",
        "    );\n",
        "    \"\"\"\n",
        "    cur = conn.cursor()\n",
        "    cur.execute(create_table_sql)\n",
        "    conn.commit() # Commit the table creation\n",
        "\n",
        "def fetch_crypto_data():\n",
        "    \"\"\"Fetches the latest prices from the CoinGecko API.\"\"\"\n",
        "    url = \"https://api.coingecko.com/api/v3/simple/price?ids=bitcoin,ethereum&vs_currencies=usd\"\n",
        "\n",
        "    try:\n",
        "        response = requests.get(url)\n",
        "        response.raise_for_status()  # Raises an error for bad status codes\n",
        "        data = response.json()\n",
        "        return data\n",
        "    except requests.exceptions.RequestException as e:\n",
        "        print(f\"API Request failed: {e}\")\n",
        "        return None\n",
        "\n",
        "def insert_data(conn, data):\n",
        "    \"\"\"Inserts the extracted data into the database.\"\"\"\n",
        "    current_time = datetime.now().strftime(\"%Y-%m-%d %H:%M:%S\")\n",
        "    cur = conn.cursor()\n",
        "    insert_sql = \"INSERT INTO crypto_prices (cryptocurrency, price_usd, timestamp) VALUES (?, ?, ?);\"\n",
        "\n",
        "    # Data is a dict: {'bitcoin': {'usd': 50000}, 'ethereum': {'usd': 3000}}\n",
        "    for coin, price_data in data.items():\n",
        "        price = price_data['usd']\n",
        "        # Execute the insert for each cryptocurrency\n",
        "        cur.execute(insert_sql, (coin, price, current_time))\n",
        "\n",
        "    conn.commit() # Commit all inserts at once\n",
        "    print(f\"Inserted data for {list(data.keys())}\")\n",
        "\n",
        "def query_latest_data(conn):\n",
        "    \"\"\"Queries and displays the most recent entries for each cryptocurrency.\"\"\"\n",
        "    cur = conn.cursor()\n",
        "    # This query gets the latest price for each crypto\n",
        "    query_sql = \"\"\"\n",
        "    SELECT cryptocurrency, price_usd, timestamp\n",
        "    FROM crypto_prices\n",
        "    WHERE id IN (\n",
        "        SELECT MAX(id)\n",
        "        FROM crypto_prices\n",
        "        GROUP BY cryptocurrency\n",
        "    );\n",
        "    \"\"\"\n",
        "    cur.execute(query_sql)\n",
        "    results = cur.fetchall()\n",
        "\n",
        "    print(\"\\n--- Latest Prices in Database ---\")\n",
        "    for row in results:\n",
        "        print(f\"{row[0]}: ${row[1]:.2f} at {row[2]}\")\n",
        "\n",
        "# --- MAIN EXECUTION ---\n",
        "# This is where the script actually runs\n",
        "print(\"Starting ETL Pipeline...\")\n",
        "\n",
        "# 1. Create DB & Table\n",
        "db_conn = create_database_connection()\n",
        "create_table(db_conn)\n",
        "\n",
        "# 2. Extract Data from API\n",
        "crypto_data = fetch_crypto_data()\n",
        "\n",
        "if crypto_data:\n",
        "    # 3. Load Data into DB\n",
        "    insert_data(db_conn, crypto_data)\n",
        "    # 4. Query and Verify\n",
        "    query_latest_data(db_conn)\n",
        "else:\n",
        "    print(\"Skipping insert due to API error.\")\n",
        "\n",
        "# 5. Close the connection\n",
        "db_conn.close()\n",
        "print(\"\\nPipeline run complete.\")"
      ],
      "metadata": {
        "colab": {
          "base_uri": "https://localhost:8080/"
        },
        "id": "Tp1DFoXhLF-8",
        "outputId": "fde27aab-a0c3-4d8c-e9d1-c6bada2776ce"
      },
      "execution_count": 16,
      "outputs": [
        {
          "output_type": "stream",
          "name": "stdout",
          "text": [
            "Starting ETL Pipeline...\n",
            "Inserted data for ['bitcoin', 'ethereum']\n",
            "\n",
            "--- Latest Prices in Database ---\n",
            "bitcoin: $109682.00 at 2025-08-26 11:44:54\n",
            "ethereum: $4418.19 at 2025-08-26 11:44:54\n",
            "\n",
            "Pipeline run complete.\n"
          ]
        }
      ]
    }
  ]
}