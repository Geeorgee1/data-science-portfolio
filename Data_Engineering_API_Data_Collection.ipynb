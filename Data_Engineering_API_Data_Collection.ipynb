{
  "nbformat": 4,
  "nbformat_minor": 0,
  "metadata": {
    "colab": {
      "provenance": [],
      "collapsed_sections": [
        "bRgZYR__lwN8"
      ],
      "authorship_tag": "ABX9TyOJDc1/M5ATdlDrKT8AY7GT"
    },
    "kernelspec": {
      "name": "python3",
      "display_name": "Python 3"
    },
    "language_info": {
      "name": "python"
    }
  },
  "cells": [
    {
      "cell_type": "markdown",
      "source": [
        "## **My first touch with Data Engineering.**"
      ],
      "metadata": {
        "id": "bRgZYR__lwN8"
      }
    },
    {
      "cell_type": "code",
      "source": [
        "!pip install requests"
      ],
      "metadata": {
        "colab": {
          "base_uri": "https://localhost:8080/"
        },
        "id": "0wMAFbSBPwdJ",
        "outputId": "5637341e-022d-498c-d64f-e393089a9114"
      },
      "execution_count": 1,
      "outputs": [
        {
          "output_type": "stream",
          "name": "stdout",
          "text": [
            "Requirement already satisfied: requests in /usr/local/lib/python3.12/dist-packages (2.32.4)\n",
            "Requirement already satisfied: charset_normalizer<4,>=2 in /usr/local/lib/python3.12/dist-packages (from requests) (3.4.3)\n",
            "Requirement already satisfied: idna<4,>=2.5 in /usr/local/lib/python3.12/dist-packages (from requests) (3.10)\n",
            "Requirement already satisfied: urllib3<3,>=1.21.1 in /usr/local/lib/python3.12/dist-packages (from requests) (2.5.0)\n",
            "Requirement already satisfied: certifi>=2017.4.17 in /usr/local/lib/python3.12/dist-packages (from requests) (2025.8.3)\n"
          ]
        }
      ]
    },
    {
      "cell_type": "code",
      "source": [
        "import requests # This gets the \"request\" tool from our toolbox.\n",
        "\n",
        "url = \"https://api.coingecko.com/api/v3/simple/price?ids=bitcoin&vs_currencies=usd\"\n",
        "response = requests.get(url) # This sends the waiter to the URL.\n",
        "\n",
        "print(\"The status of our request was:\", response.status_code)\n",
        "print(\"The raw text we got back is:\")\n",
        "print(response.text)"
      ],
      "metadata": {
        "colab": {
          "base_uri": "https://localhost:8080/"
        },
        "id": "wLaMh9ZXQBNn",
        "outputId": "4f29f62e-92dc-40b4-a222-89e2f80bb1de"
      },
      "execution_count": 7,
      "outputs": [
        {
          "output_type": "stream",
          "name": "stdout",
          "text": [
            "The status of our request was: 200\n",
            "The raw text we got back is:\n",
            "{\"bitcoin\":{\"usd\":111575}}\n"
          ]
        }
      ]
    },
    {
      "cell_type": "code",
      "source": [
        "data = response.json() # This converts the text into a Python dictionary.\n",
        "\n",
        "print(\"Now the data is a Python object:\")\n",
        "print(data)\n",
        "print(\"Type of 'data' variable is:\", type(data))\n",
        "\n",
        "print(\"\\nLet's navigate it:\")\n",
        "print(\"What is the value of 'bitcoin'?\", data['bitcoin'])\n",
        "print(\"What is the USD price?\", data['bitcoin']['usd'])"
      ],
      "metadata": {
        "colab": {
          "base_uri": "https://localhost:8080/"
        },
        "id": "MVk5VFccUz9z",
        "outputId": "024aaed0-2399-4c2c-b759-147caa0a7c65"
      },
      "execution_count": 8,
      "outputs": [
        {
          "output_type": "stream",
          "name": "stdout",
          "text": [
            "Now the data is a Python object:\n",
            "{'bitcoin': {'usd': 111575}}\n",
            "Type of 'data' variable is: <class 'dict'>\n",
            "\n",
            "Let's navigate it:\n",
            "What is the value of 'bitcoin'? {'usd': 111575}\n",
            "What is the USD price? 111575\n"
          ]
        }
      ]
    },
    {
      "cell_type": "code",
      "source": [
        "import requests\n",
        "import pandas as pd\n",
        "from datetime import datetime # This gets the current time tool.\n",
        "\n",
        "# 1. ACQUIRE THE DATA (This is what you just mastered)\n",
        "url = \"https://api.coingecko.com/api/v3/simple/price?ids=bitcoin&vs_currencies=usd\"\n",
        "response = requests.get(url)\n",
        "data = response.json()\n",
        "\n",
        "# 2. EXTRACT AND ADD CONTEXT\n",
        "# Let's get the price the way you already know how.\n",
        "price = data['bitcoin']['usd']\n",
        "\n",
        "# Now, let's create a dictionary. Think of it as a single row in a spreadsheet.\n",
        "record = {\n",
        "    'cryptocurrency': 'bitcoin', # Column Name: Value\n",
        "    'price_usd': price,          # Column Name: Value\n",
        "    'timestamp': datetime.now()   # Column Name: Value (the current time!)\n",
        "}\n",
        "\n",
        "# Let's see what our record looks like.\n",
        "print(\"Single Data Record:\")\n",
        "print(record)\n",
        "\n",
        "\n",
        "\n",
        "\n",
        "\n",
        "# 3. STRUCTURE AND SAVE THE DATA\n",
        "# Pandas DataFrames are like digital spreadsheets. We need to put our record into one.\n",
        "# We first make a list containing our one record. (Later, we'll have many records in the list)\n",
        "data_list = [record]\n",
        "\n",
        "# We create a DataFrame from that list.\n",
        "df = pd.DataFrame(data_list)\n",
        "\n",
        "# Let's see our mini-spreadsheet.\n",
        "print(\"\\nDataFrame (Our Spreadsheet):\")\n",
        "print(df)\n",
        "print(\"\\nColumn types:\")\n",
        "print(df.dtypes)\n",
        "\n",
        "# 4. PERSIST TO STORAGE\n",
        "# Create a filename with the current date so it's unique and organized.\n",
        "filename = \"bitcoin_price.csv\"\n",
        "# Save the DataFrame to a CSV file. index=False means we don't need an extra number column.\n",
        "df.to_csv(filename, index=False)\n",
        "\n",
        "print(f\"\\nSuccess! Data saved to {filename}\")"
      ],
      "metadata": {
        "colab": {
          "base_uri": "https://localhost:8080/"
        },
        "id": "15vhnNQYV6_-",
        "outputId": "0bc83cf5-92fb-438c-ebbc-9921a4dee9a8"
      },
      "execution_count": 10,
      "outputs": [
        {
          "output_type": "stream",
          "name": "stdout",
          "text": [
            "Single Data Record:\n",
            "{'cryptocurrency': 'bitcoin', 'price_usd': 111393, 'timestamp': datetime.datetime(2025, 8, 25, 13, 11, 54, 996749)}\n",
            "\n",
            "DataFrame (Our Spreadsheet):\n",
            "  cryptocurrency  price_usd                  timestamp\n",
            "0        bitcoin     111393 2025-08-25 13:11:54.996749\n",
            "\n",
            "Column types:\n",
            "cryptocurrency            object\n",
            "price_usd                  int64\n",
            "timestamp         datetime64[ns]\n",
            "dtype: object\n",
            "\n",
            "Success! Data saved to bitcoin_price.csv\n"
          ]
        }
      ]
    },
    {
      "cell_type": "code",
      "source": [
        "import requests\n",
        "import pandas as pd\n",
        "from datetime import datetime\n",
        "\n",
        "# 1. ACQUIRE THE DATA\n",
        "# Notice we added 'ethereum' to the list of ids\n",
        "url = \"https://api.coingecko.com/api/v3/simple/price?ids=bitcoin,ethereum&vs_currencies=usd\"\n",
        "response = requests.get(url)\n",
        "data = response.json()\n",
        "\n",
        "# Let's see the new, more complex structure we get back\n",
        "print(\"Raw API Response:\")\n",
        "print(data)\n",
        "print(\"\\n\")\n",
        "\n",
        "# 2. EXTRACT AND ADD CONTEXT USING A LOOP\n",
        "data_list = [] # We start with an empty list to hold our records\n",
        "\n",
        "# The .items() method lets us loop through a dictionary's keys and values.\n",
        "for coin_name, price_info in data.items():\n",
        "    print(f\"Processing: {coin_name}\")\n",
        "    print(f\"The data for this coin is: {price_info}\")\n",
        "\n",
        "    # For each coin, create a new record (a new row)\n",
        "    record = {\n",
        "        'cryptocurrency': coin_name, # The key (e.g., 'bitcoin') becomes the value\n",
        "        'price_usd': price_info['usd'], # Navigate into the inner dictionary\n",
        "        'timestamp': datetime.now()\n",
        "    }\n",
        "    data_list.append(record) # Add this record to our list\n",
        "    print(f\"Record created: {record}\\n\")\n",
        "\n",
        "# 3. STRUCTURE AND SAVE THE DATA\n",
        "df = pd.DataFrame(data_list) # Create a DataFrame from the list of records\n",
        "print(\"Final DataFrame:\")\n",
        "print(df)\n",
        "\n",
        "# 4. PERSIST TO STORAGE\n",
        "filename = \"multi_crypto_prices.csv\"\n",
        "df.to_csv(filename, index=False)\n",
        "print(f\"\\nSuccess! Data saved to {filename}\")"
      ],
      "metadata": {
        "colab": {
          "base_uri": "https://localhost:8080/"
        },
        "id": "npALYY5yYYdi",
        "outputId": "c1638a4b-5f01-4d71-bf62-d1aadfa82485"
      },
      "execution_count": 11,
      "outputs": [
        {
          "output_type": "stream",
          "name": "stdout",
          "text": [
            "Raw API Response:\n",
            "{'bitcoin': {'usd': 111381}, 'ethereum': {'usd': 4630.53}}\n",
            "\n",
            "\n",
            "Processing: bitcoin\n",
            "The data for this coin is: {'usd': 111381}\n",
            "Record created: {'cryptocurrency': 'bitcoin', 'price_usd': 111381, 'timestamp': datetime.datetime(2025, 8, 25, 13, 19, 4, 575019)}\n",
            "\n",
            "Processing: ethereum\n",
            "The data for this coin is: {'usd': 4630.53}\n",
            "Record created: {'cryptocurrency': 'ethereum', 'price_usd': 4630.53, 'timestamp': datetime.datetime(2025, 8, 25, 13, 19, 4, 575052)}\n",
            "\n",
            "Final DataFrame:\n",
            "  cryptocurrency  price_usd                  timestamp\n",
            "0        bitcoin  111381.00 2025-08-25 13:19:04.575019\n",
            "1       ethereum    4630.53 2025-08-25 13:19:04.575052\n",
            "\n",
            "Success! Data saved to multi_crypto_prices.csv\n"
          ]
        }
      ]
    },
    {
      "cell_type": "code",
      "source": [
        "import requests\n",
        "import pandas as pd\n",
        "from datetime import datetime\n",
        "\n",
        "#url = \"https://api.coingecko.com/api/v3/simple/price?ids=bitcoin,ethereum&vs_currencies=usd\"\n",
        "# Trying out broken url for better understanding.\n",
        "url = \"https://api.coingecko.com/api/v3/THIS_DOES_NOT_EXIST\"\n",
        "\n",
        "# Initialize an empty list to store our data. We do this OUTSIDE the try block.\n",
        "data_list = []\n",
        "\n",
        "try:\n",
        "    # 1. ATTEMPT TO ACQUIRE THE DATA\n",
        "    print(\"Sending request to API...\")\n",
        "    response = requests.get(url)\n",
        "\n",
        "    # 2. CHECK FOR HTTP ERRORS (e.g., 404 Not Found, 500 Server Error)\n",
        "    # This will raise an exception if the request failed.\n",
        "    response.raise_for_status()\n",
        "    print(\"API request successful!\")\n",
        "\n",
        "    # 3. ATTEMPT TO PARSE THE JSON RESPONSE\n",
        "    data = response.json()\n",
        "    print(\"JSON data parsed.\")\n",
        "\n",
        "    # 4. VALIDATE AND PROCESS THE DATA\n",
        "    for coin_name, price_info in data.items():\n",
        "\n",
        "        # Check if the 'usd' key exists inside this coin's data.\n",
        "        if 'usd' in price_info:\n",
        "            record = {\n",
        "                'cryptocurrency': coin_name,\n",
        "                'price_usd': price_info['usd'],\n",
        "                'timestamp': datetime.now()\n",
        "            }\n",
        "            data_list.append(record)\n",
        "            print(f\"✓ Successfully processed data for {coin_name}.\")\n",
        "        else:\n",
        "            # This is not an error that stops the script. It's a warning.\n",
        "            print(f\"⚠ Warning: Expected 'usd' key not found for {coin_name}. Skipping.\")\n",
        "\n",
        "    # 5. CHECK IF WE ACTUALLY GOT ANY DATA\n",
        "    if not data_list: # This checks if the list is empty\n",
        "        raise Exception(\"No valid data was processed from the API response.\")\n",
        "\n",
        "    # 6. SAVE THE DATA\n",
        "    df = pd.DataFrame(data_list)\n",
        "    filename = \"robust_crypto_prices.csv\"\n",
        "    df.to_csv(filename, index=False)\n",
        "    print(f\"\\n✅ Success! Data from {len(data_list)} coins saved to {filename}\")\n",
        "\n",
        "# THIS BLOCK ONLY RUNS IF AN ERROR OCCURRED IN THE TRY BLOCK\n",
        "except requests.exceptions.RequestException as e:\n",
        "    print(f\"❌ A network error occurred: {e}\")\n",
        "except ValueError as e:\n",
        "    print(f\"❌ Failed to decode JSON response: {e}\")\n",
        "except Exception as e: # Catches any other unexpected errors\n",
        "    print(f\"❌ An unexpected error occurred: {e}\")"
      ],
      "metadata": {
        "colab": {
          "base_uri": "https://localhost:8080/"
        },
        "id": "BhHvS2lnb9Gy",
        "outputId": "f698203a-cd6c-47ae-f9ac-dc4859b74cbd"
      },
      "execution_count": 13,
      "outputs": [
        {
          "output_type": "stream",
          "name": "stdout",
          "text": [
            "Sending request to API...\n",
            "❌ A network error occurred: 404 Client Error: Not Found for url: https://api.coingecko.com/api/v3/THIS_DOES_NOT_EXIST\n"
          ]
        }
      ]
    },
    {
      "cell_type": "code",
      "source": [
        "# import os\n",
        "\n",
        "# # List all files in the current directory\n",
        "# print(\"Files in current directory:\")\n",
        "# all_files = os.listdir()\n",
        "# for file in all_files:\n",
        "#     print(file)"
      ],
      "metadata": {
        "id": "mJ3nxg04fitk"
      },
      "execution_count": null,
      "outputs": []
    },
    {
      "cell_type": "code",
      "source": [
        "# # SAFETY FIRST: Let's list only CSV files first to confirm what we're about to delete.\n",
        "# print(\"CSV files found:\")\n",
        "# csv_files = [file for file in all_files if file.endswith('.csv')]\n",
        "# for file in csv_files:\n",
        "#     print(file)"
      ],
      "metadata": {
        "id": "yCZgDHC5fmJp"
      },
      "execution_count": null,
      "outputs": []
    },
    {
      "cell_type": "code",
      "source": [
        "# # Delete all CSV files\n",
        "# for file in csv_files:\n",
        "#     try:\n",
        "#         os.remove(file)\n",
        "#         print(f\"Deleted: {file}\")\n",
        "#     except Exception as e:\n",
        "#         print(f\"Could not delete {file}: {e}\")\n",
        "\n",
        "# # Verify they are gone\n",
        "# print(\"\\nRemaining files after deletion:\")\n",
        "# print(os.listdir())"
      ],
      "metadata": {
        "id": "Bi76AUf-fx5l"
      },
      "execution_count": null,
      "outputs": []
    }
  ]
}